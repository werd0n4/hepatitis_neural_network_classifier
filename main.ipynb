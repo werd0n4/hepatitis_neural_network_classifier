{
  "nbformat": 4,
  "nbformat_minor": 0,
  "metadata": {
    "colab": {
      "name": "main.ipynb",
      "provenance": [],
      "collapsed_sections": [],
      "toc_visible": true,
      "mount_file_id": "1OZGLE-JBRy2OacUR59jGiWcpQ8IQFY_m",
      "authorship_tag": "ABX9TyPqgPJHJnAq7x6KkpRmH5AA"
    },
    "kernelspec": {
      "name": "python3",
      "display_name": "Python 3"
    }
  },
  "cells": [
    {
      "cell_type": "markdown",
      "metadata": {
        "id": "mDMEADcDuUu4"
      },
      "source": [
        "# Imports"
      ]
    },
    {
      "cell_type": "code",
      "metadata": {
        "colab": {
          "base_uri": "https://localhost:8080/"
        },
        "id": "IWAXiX1MoMBr",
        "outputId": "53a230f1-5dd3-444a-e8cf-842fa7db63ff"
      },
      "source": [
        "from google.colab import drive\n",
        "drive.mount('/content/drive', force_remount=False)"
      ],
      "execution_count": 2,
      "outputs": [
        {
          "output_type": "stream",
          "text": [
            "Drive already mounted at /content/drive; to attempt to forcibly remount, call drive.mount(\"/content/drive\", force_remount=True).\n"
          ],
          "name": "stdout"
        }
      ]
    },
    {
      "cell_type": "code",
      "metadata": {
        "id": "sNFrPcW63oE0"
      },
      "source": [
        "data_path = '/content/drive/MyDrive/ZIWM projekt/data/hepatitis.data'"
      ],
      "execution_count": 3,
      "outputs": []
    },
    {
      "cell_type": "code",
      "metadata": {
        "id": "unk40AJ8lbAh"
      },
      "source": [
        "import pandas as pd\n",
        "import numpy as np\n",
        "from sklearn.feature_selection import SelectKBest, chi2\n",
        "from sklearn.preprocessing import MinMaxScaler\n",
        "import matplotlib.pyplot as plt\n",
        "\n",
        "pd.set_option('display.max_rows', None)"
      ],
      "execution_count": 4,
      "outputs": []
    },
    {
      "cell_type": "markdown",
      "metadata": {
        "id": "eeYuN_houZ0t"
      },
      "source": [
        "# Load data"
      ]
    },
    {
      "cell_type": "code",
      "metadata": {
        "id": "e29vMPgp3kwV"
      },
      "source": [
        "columns = ['class', 'age', 'sex', 'seroid', 'antviral',\n",
        "           'fatigue', 'malaise', 'anorexia', 'liver_big', 'liver_firm',\n",
        "           'spleen_palpable',  'spiders', 'ascites', 'varices', 'bilirubin', \n",
        "           'alk_phosphate', 'sgot', 'albumin', 'protime', 'histology']\n",
        "\n",
        "columns_to_drop = ['alk_phosphate', 'protime']\n",
        "\n",
        "df = pd.read_csv(data_path, names=columns)"
      ],
      "execution_count": 5,
      "outputs": []
    },
    {
      "cell_type": "markdown",
      "metadata": {
        "id": "jL5ceXqxvt1a"
      },
      "source": [
        "## Sanitize data"
      ]
    },
    {
      "cell_type": "code",
      "metadata": {
        "colab": {
          "base_uri": "https://localhost:8080/",
          "height": 204
        },
        "id": "FIPpDrknvGei",
        "outputId": "f6203fc9-e9db-478a-d86c-2e991b60f884"
      },
      "source": [
        "# drop columns with many empty records\n",
        "df = df.drop(columns_to_drop, axis=1)\n",
        "# mark '?' as NaN\n",
        "df = df[df != '?']\n",
        "# drop NaN\n",
        "df = df.dropna()\n",
        "df = df.reset_index(drop=True)\n",
        "# convert 'Object' type to floats and ints\n",
        "df[['bilirubin', 'sgot', 'albumin']] = df[['bilirubin', 'sgot', 'albumin']].astype('float')\n",
        "df[['class', 'sex', 'seroid', 'antviral', 'fatigue', 'malaise', 'anorexia', 'liver_big', 'liver_firm', 'spleen_palpable', 'spiders', 'ascites', 'varices', 'histology']] = df[['class', 'sex', 'seroid', 'antviral', 'fatigue', 'malaise', 'anorexia', 'liver_big', 'liver_firm', 'spleen_palpable', 'spiders', 'ascites', 'varices', 'histology']].astype(int)\n",
        "# replace class marks\n",
        "df.replace({1: 0, 2: 1}, inplace=True)\n",
        "# divdie df to X and y sets\n",
        "X = df.drop(['class'], axis=1)\n",
        "y = df['class']\n",
        "\n",
        "X.head()"
      ],
      "execution_count": 6,
      "outputs": [
        {
          "output_type": "execute_result",
          "data": {
            "text/html": [
              "<div>\n",
              "<style scoped>\n",
              "    .dataframe tbody tr th:only-of-type {\n",
              "        vertical-align: middle;\n",
              "    }\n",
              "\n",
              "    .dataframe tbody tr th {\n",
              "        vertical-align: top;\n",
              "    }\n",
              "\n",
              "    .dataframe thead th {\n",
              "        text-align: right;\n",
              "    }\n",
              "</style>\n",
              "<table border=\"1\" class=\"dataframe\">\n",
              "  <thead>\n",
              "    <tr style=\"text-align: right;\">\n",
              "      <th></th>\n",
              "      <th>age</th>\n",
              "      <th>sex</th>\n",
              "      <th>seroid</th>\n",
              "      <th>antviral</th>\n",
              "      <th>fatigue</th>\n",
              "      <th>malaise</th>\n",
              "      <th>anorexia</th>\n",
              "      <th>liver_big</th>\n",
              "      <th>liver_firm</th>\n",
              "      <th>spleen_palpable</th>\n",
              "      <th>spiders</th>\n",
              "      <th>ascites</th>\n",
              "      <th>varices</th>\n",
              "      <th>bilirubin</th>\n",
              "      <th>sgot</th>\n",
              "      <th>albumin</th>\n",
              "      <th>histology</th>\n",
              "    </tr>\n",
              "  </thead>\n",
              "  <tbody>\n",
              "    <tr>\n",
              "      <th>0</th>\n",
              "      <td>30</td>\n",
              "      <td>1</td>\n",
              "      <td>0</td>\n",
              "      <td>1</td>\n",
              "      <td>1</td>\n",
              "      <td>1</td>\n",
              "      <td>1</td>\n",
              "      <td>0</td>\n",
              "      <td>1</td>\n",
              "      <td>1</td>\n",
              "      <td>1</td>\n",
              "      <td>1</td>\n",
              "      <td>1</td>\n",
              "      <td>0.0</td>\n",
              "      <td>18.0</td>\n",
              "      <td>4.0</td>\n",
              "      <td>0</td>\n",
              "    </tr>\n",
              "    <tr>\n",
              "      <th>1</th>\n",
              "      <td>50</td>\n",
              "      <td>0</td>\n",
              "      <td>0</td>\n",
              "      <td>1</td>\n",
              "      <td>0</td>\n",
              "      <td>1</td>\n",
              "      <td>1</td>\n",
              "      <td>0</td>\n",
              "      <td>1</td>\n",
              "      <td>1</td>\n",
              "      <td>1</td>\n",
              "      <td>1</td>\n",
              "      <td>1</td>\n",
              "      <td>0.9</td>\n",
              "      <td>42.0</td>\n",
              "      <td>3.5</td>\n",
              "      <td>0</td>\n",
              "    </tr>\n",
              "    <tr>\n",
              "      <th>2</th>\n",
              "      <td>78</td>\n",
              "      <td>0</td>\n",
              "      <td>1</td>\n",
              "      <td>1</td>\n",
              "      <td>0</td>\n",
              "      <td>1</td>\n",
              "      <td>1</td>\n",
              "      <td>1</td>\n",
              "      <td>1</td>\n",
              "      <td>1</td>\n",
              "      <td>1</td>\n",
              "      <td>1</td>\n",
              "      <td>1</td>\n",
              "      <td>0.7</td>\n",
              "      <td>32.0</td>\n",
              "      <td>4.0</td>\n",
              "      <td>0</td>\n",
              "    </tr>\n",
              "    <tr>\n",
              "      <th>3</th>\n",
              "      <td>34</td>\n",
              "      <td>0</td>\n",
              "      <td>1</td>\n",
              "      <td>1</td>\n",
              "      <td>1</td>\n",
              "      <td>1</td>\n",
              "      <td>1</td>\n",
              "      <td>1</td>\n",
              "      <td>1</td>\n",
              "      <td>1</td>\n",
              "      <td>1</td>\n",
              "      <td>1</td>\n",
              "      <td>1</td>\n",
              "      <td>0.0</td>\n",
              "      <td>200.0</td>\n",
              "      <td>4.0</td>\n",
              "      <td>0</td>\n",
              "    </tr>\n",
              "    <tr>\n",
              "      <th>4</th>\n",
              "      <td>34</td>\n",
              "      <td>0</td>\n",
              "      <td>1</td>\n",
              "      <td>1</td>\n",
              "      <td>1</td>\n",
              "      <td>1</td>\n",
              "      <td>1</td>\n",
              "      <td>1</td>\n",
              "      <td>1</td>\n",
              "      <td>1</td>\n",
              "      <td>1</td>\n",
              "      <td>1</td>\n",
              "      <td>1</td>\n",
              "      <td>0.9</td>\n",
              "      <td>28.0</td>\n",
              "      <td>4.0</td>\n",
              "      <td>0</td>\n",
              "    </tr>\n",
              "  </tbody>\n",
              "</table>\n",
              "</div>"
            ],
            "text/plain": [
              "   age  sex  seroid  antviral  ...  bilirubin   sgot  albumin  histology\n",
              "0   30    1       0         1  ...        0.0   18.0      4.0          0\n",
              "1   50    0       0         1  ...        0.9   42.0      3.5          0\n",
              "2   78    0       1         1  ...        0.7   32.0      4.0          0\n",
              "3   34    0       1         1  ...        0.0  200.0      4.0          0\n",
              "4   34    0       1         1  ...        0.9   28.0      4.0          0\n",
              "\n",
              "[5 rows x 17 columns]"
            ]
          },
          "metadata": {
            "tags": []
          },
          "execution_count": 6
        }
      ]
    },
    {
      "cell_type": "markdown",
      "metadata": {
        "id": "JmQbqjVW8xkI"
      },
      "source": [
        "# Features ranking"
      ]
    },
    {
      "cell_type": "code",
      "metadata": {
        "id": "2aCodMWQ4NQH",
        "colab": {
          "base_uri": "https://localhost:8080/"
        },
        "outputId": "b55e8697-aad7-4596-e9cc-02ca178d7505"
      },
      "source": [
        "# use chi-squared test to make features ranking\n",
        "chi2_selector = SelectKBest(chi2, k=X.shape[1])\n",
        "chi2_selector.fit(X, y)"
      ],
      "execution_count": 7,
      "outputs": [
        {
          "output_type": "execute_result",
          "data": {
            "text/plain": [
              "SelectKBest(k=17, score_func=<function chi2 at 0x7fc21b9f3290>)"
            ]
          },
          "metadata": {
            "tags": []
          },
          "execution_count": 7
        }
      ]
    },
    {
      "cell_type": "markdown",
      "metadata": {
        "id": "EYMY9MBtxKoA"
      },
      "source": [
        "## Ranking table"
      ]
    },
    {
      "cell_type": "code",
      "metadata": {
        "id": "yCk9pEdowQsg"
      },
      "source": [
        "# create ranking table\n",
        "chi2_scores = pd.DataFrame(list(zip(X.columns, chi2_selector.scores_)), columns=['feature', 'score'])\n",
        "chi2_scores = chi2_scores.round(2)\n",
        "chi2_scores = chi2_scores.sort_values('score', ascending=False)"
      ],
      "execution_count": 8,
      "outputs": []
    },
    {
      "cell_type": "markdown",
      "metadata": {
        "id": "KUfoSDA3xOYh"
      },
      "source": [
        "## Bar plot"
      ]
    },
    {
      "cell_type": "code",
      "metadata": {
        "colab": {
          "base_uri": "https://localhost:8080/",
          "height": 730
        },
        "id": "Jf9qfuadzr5p",
        "outputId": "0bf4cb14-564e-44bb-cdb4-33d267085c2a"
      },
      "source": [
        "# display bar plot\n",
        "plt.figure(figsize=(20,12))\n",
        "plt.rcParams['axes.facecolor'] = 'lightgray'\n",
        "plt.grid(zorder=0)\n",
        "estimator_num = len(chi2_scores['feature'])\n",
        "\n",
        "# sort ascending because horizontal bars print in reverse order\n",
        "ascending_features = chi2_scores.sort_values('score', ascending=True)\n",
        "\n",
        "# create horizontal bar plot\n",
        "plt.barh(range(estimator_num), ascending_features['score'], align='center', zorder=3, edgecolor='black')\n",
        "\n",
        "# label bars and axis\n",
        "plt.yticks(range(estimator_num), ascending_features['feature'])\n",
        "plt.title('Ranking based on chi-squared test')\n",
        "plt.ylabel('Features')\n",
        "plt.xlabel('Chi-squared test value')\n",
        "\n",
        "# add scores at bars end\n",
        "for i, v in enumerate(ascending_features['score']):\n",
        "    plt.text(v + 0.6, i - 0.1, str(v), color='blue', fontweight='bold')\n",
        "\n",
        "# save to file must be call before show\n",
        "plt.savefig(fname='/content/drive/MyDrive/ZIWM projekt/ranking.png', orientation='landscape')\n",
        "plt.show()"
      ],
      "execution_count": 42,
      "outputs": [
        {
          "output_type": "display_data",
          "data": {
            "image/png": "[encoded data removed]",
            "text/plain": [
              "<Figure size 1440x864 with 1 Axes>"
            ]
          },
          "metadata": {
            "tags": [],
            "needs_background": "light"
          }
        }
      ]
    },
    {
      "cell_type": "code",
      "metadata": {
        "id": "6Cp3DAIP80R0"
      },
      "source": [
        "# chi2_support = chi2_selector.get_support()\n",
        "# chi2_feature = X.loc[:,chi2_support].columns.tolist()\n",
        "# print(chi2_feature)"
      ],
      "execution_count": 10,
      "outputs": []
    },
    {
      "cell_type": "code",
      "metadata": {
        "id": "7VsNC748Eia_"
      },
      "source": [
        "# X_norm_striped = MinMaxScaler().fit_transform(X[chi2_feature])\n",
        "# df = pd.DataFrame(data=X[chi2_feature], columns=chi2_feature)\n",
        "# df.head()"
      ],
      "execution_count": 11,
      "outputs": []
    },
    {
      "cell_type": "code",
      "metadata": {
        "id": "4hC0ttSAIBsF"
      },
      "source": [
        ""
      ],
      "execution_count": 11,
      "outputs": []
    }
  ]
}